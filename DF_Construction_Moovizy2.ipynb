{
 "cells": [
  {
   "cell_type": "markdown",
   "metadata": {},
   "source": [
    "# DataFrame Construction\n",
    "\n",
    "## 1. Data Import\n",
    "\n",
    "#### Importing `json` extension data\n",
    "Received raw data was in json extension. You need to use `json` library to read it.\n",
    "\n",
    "#### Loading the data\n",
    "Each line in json file is in dictionary object so it has to be loaded each time as a column using `for` loop.\n",
    "You then change it to `pd.DataFrame` object."
   ]
  },
  {
   "cell_type": "code",
   "execution_count": 1,
   "metadata": {
    "collapsed": true
   },
   "outputs": [
    {
     "data": {
      "text/plain": [
       "Index(['UserId', 'RequestId', 'RecordedAtTime', 'DepartureName',\n",
       "       'DepartureCityName', 'DepartureCityCode', 'DeparturePointType',\n",
       "       'DepartureStreetNumber', 'DepartureLatitude', 'DepartureLongitude',\n",
       "       'ArrivalName', 'ArrivalCityName', 'ArrivalCityCode', 'ArrivalPointType',\n",
       "       'ArrivalStreetNumber', 'ArrivalLatitude', 'ArrivalLongitude', 'ViaName',\n",
       "       'ViaCityName', 'ViaCityCode', 'ViaPointType', 'ViaStreetNumber',\n",
       "       'OptionsTargetTime', 'OptionsTargetTimeType', 'OptionsHeuristic',\n",
       "       'OptionsMaxWalkDistance', 'OptionsWalkSpeed',\n",
       "       'OptionsForbiddenOperators', 'OptionsForbiddenStops',\n",
       "       'OptionsJourneyAttributes', 'OptionsAuthorizedTransportModes',\n",
       "       'OptionsForbiddenLines', 'HasSolution', 'ResponseTimeAsMs', 'Solutions',\n",
       "       'UnifiedTripModes', 'UnifiedSpecificOptions', 'UnifiedRequestId',\n",
       "       'UnifiedPreferedTripMode', 'Trace', 'StatusCode', 'DetailedStatus',\n",
       "       'ViaLatitude', 'ViaLongitude'],\n",
       "      dtype='object')"
      ]
     },
     "execution_count": 1,
     "metadata": {},
     "output_type": "execute_result"
    }
   ],
   "source": [
    "import json\n",
    "import numpy as np\n",
    "import pandas as pd\n",
    "import seaborn as sns\n",
    "import datetime as dt\n",
    "import matplotlib.pyplot as plt\n",
    "\n",
    "output = []\n",
    "\n",
    "# Import STAT file in .json extension as a list\n",
    "with open(\"2021-03-05_data_exchange/2021-02-12_2021-03-04_STAT_tripqueries.json\", \"r\") as input:\n",
    "    for line in input:\n",
    "        output.append(json.loads(line))\n",
    "\n",
    "# Convert input into DataFrame\n",
    "df_moovizy = pd.DataFrame(output)\n",
    "\n",
    "# Show all the column names\n",
    "df_moovizy.columns"
   ]
  },
  {
   "cell_type": "markdown",
   "metadata": {},
   "source": [
    "## 2. Cleaning the data\n",
    "\n",
    "#### Select columns that you wanna use."
   ]
  },
  {
   "cell_type": "code",
   "execution_count": 2,
   "metadata": {},
   "outputs": [],
   "source": [
    "# Select columns I need\n",
    "df_moovizy_00 = df_moovizy[['RecordedAtTime', 'UserId', 'RequestId','UnifiedPreferedTripMode', 'Solutions',\n",
    "                            'DepartureLatitude', 'DepartureLongitude', 'DepartureCityName', 'ArrivalCityName',\n",
    "                            'OptionsHeuristic', 'OptionsMaxWalkDistance',\n",
    "                            'OptionsWalkSpeed', 'OptionsJourneyAttributes', 'OptionsAuthorizedTransportModes',]]"
   ]
  },
  {
   "cell_type": "markdown",
   "metadata": {},
   "source": [
    "#### Getting desired time data\n",
    "\n",
    "`RecordedAtTime` column contains pieces of information such as `Date`, `Time`, `Reference`. You only need `Date` and `Time`. So you split `RecordedAtTime` into three different columns of `Date`, `Time`, `Reference` and then you drop `Reference` column.\n",
    "\n",
    "And in the `Time` column, the time is expressed to miliseconds unit. You don't need that. Split this column into `Time` and `MiliSec` columns where `Time` column contains hour minute second info. Then you drop `Milisec` column.\n"
   ]
  },
  {
   "cell_type": "code",
   "execution_count": 3,
   "metadata": {
    "collapsed": true
   },
   "outputs": [
    {
     "name": "stderr",
     "output_type": "stream",
     "text": [
      "/opt/anaconda3/lib/python3.8/site-packages/pandas/core/frame.py:2963: SettingWithCopyWarning: \n",
      "A value is trying to be set on a copy of a slice from a DataFrame.\n",
      "Try using .loc[row_indexer,col_indexer] = value instead\n",
      "\n",
      "See the caveats in the documentation: https://pandas.pydata.org/pandas-docs/stable/user_guide/indexing.html#returning-a-view-versus-a-copy\n",
      "  self[k1] = value[k2]\n"
     ]
    },
    {
     "data": {
      "text/plain": [
       "Index(['UserId', 'RequestId', 'PrefTripMode', 'Solutions', 'DepartureLatitude',\n",
       "       'DepartureLongitude', 'DepartureCityName', 'ArrivalCityName',\n",
       "       'OptionsHeuristic', 'OptionsMaxWalkDistance', 'OptionsWalkSpeed',\n",
       "       'OptionsJourneyAttributes', 'OptionsAuthorizedTransportModes', 'Date',\n",
       "       'Time'],\n",
       "      dtype='object')"
      ]
     },
     "execution_count": 3,
     "metadata": {},
     "output_type": "execute_result"
    }
   ],
   "source": [
    "df_moovizy_00[['Date','Time','TimeRef']] = pd.DataFrame(df_moovizy_00['RecordedAtTime'].str.split(' ', 2).tolist())\n",
    "df_moovizy_00[['Time','MiliSec']] = pd.DataFrame(df_moovizy_00['Time'].str.split('.', 1).tolist())\n",
    "df_moovizy_00 = df_moovizy_00.drop(['RecordedAtTime','MiliSec','TimeRef'],1)\n",
    "\n",
    "# Just changing to shorter name\n",
    "df_moovizy_00 = df_moovizy_00.rename(columns={'UnifiedPreferedTripMode':'PrefTripMode'})\n",
    "df_moovizy_00.columns"
   ]
  },
  {
   "cell_type": "markdown",
   "metadata": {},
   "source": [
    "#### Column relocation\n",
    "\n",
    "When you split a column, newly created columns go automatically to the right-end of the df. For better visualisation of data in the table, you may want to relocate the columns using their indices.\n",
    "\n",
    "`df_moovizy_00.columns[-2:]` will take all the columns names except the last two.\n",
    "\n",
    "`df_moovizy_00.columns[:-2]` will take the last two except the rest.\n",
    "\n",
    "`df_moovizy_00_columns` will concatenate the two column names lists into one. Columns are now in the desired order.\n",
    "\n",
    "`df_moovizy_00[df_moovizy_00_columns]` will relocate column names in the same order as the one above."
   ]
  },
  {
   "cell_type": "code",
   "execution_count": 4,
   "metadata": {},
   "outputs": [],
   "source": [
    "# Relocate Columns in the correct order\n",
    "df_moovizy_00_col_right = df_moovizy_00.columns[-2:].to_list() \n",
    "df_moovizy_00_col_left  = df_moovizy_00.columns[:-2].to_list()\n",
    "df_moovizy_00_columns   = df_moovizy_00_col_right + df_moovizy_00_col_left\n",
    "df_moovizy_01 = df_moovizy_00[df_moovizy_00_columns]"
   ]
  },
  {
   "cell_type": "code",
   "execution_count": 5,
   "metadata": {},
   "outputs": [],
   "source": [
    "# Time Interval Creation\n",
    "\n",
    "# Left-end of the interval\n",
    "time_left = np.array(df_moovizy_01['Time'].str[:2].tolist()) # take Time string values until 2nd position and make em a list\n",
    "time_left = list(map(int, time_left))                        # make time_left str values into int\n",
    "\n",
    "# Right-end of the interval\n",
    "ad = np.ones(len(time_left), dtype=np.int) # array of ones\n",
    "time_right = time_left + ad                # +1 to each element of time_left\n",
    "\n",
    "# Gonna change to DateTime object and it doesn't recog np.array so we change to lists\n",
    "left1 = list(time_left)    # left  parts of the time interval stored as int\n",
    "right1= list(time_right)   # right parts of the time interval stored as int\n",
    "\n",
    "# Transform left parts time interval objects into str objects\n",
    "left2 = []\n",
    "for h in left1:\n",
    "    left2.append(str(dt.timedelta(hours= h)))\n",
    "    \n",
    "right2= []\n",
    "for h in right1:\n",
    "    # we need to change to int from np.int64 datatype cuz timedelta cannot read np.int then substract 1 sec\n",
    "    right2.append(str(dt.timedelta(hours=np.int64.item(h)) - dt.timedelta(seconds= 1)))\n",
    "\n",
    "# Joined time interval\n",
    "interval = []\n",
    "for i in range(len(right2)):\n",
    "    if len(left2[i]) == 7:\n",
    "        interval.append(left2[i][:1]) # Only the first letter like 8 (hour)\n",
    "    if len(left2[i]) == 8:\n",
    "        interval.append(left2[i][:2]) # Only the first two letters like 17 (hour)\n",
    "        \n",
    "# We can do \":00:00$\"\n",
    "\n",
    "# Create a DF with Interval column\n",
    "interval2 = pd.DataFrame(interval, columns=[\"Interval\"])\n",
    "\n",
    "# Concatenate moovizy and interval DFs\n",
    "df_moovizy_02 = pd.concat([df_moovizy_01, interval2], axis=1)\n",
    "df_moovizy_02.head(2)\n",
    "\n",
    "# Rearranging the order of columns\n",
    "col_interval = df_moovizy_02.columns[-1:].to_list()  # interval column\n",
    "col_datetime = df_moovizy_02.columns[:2].to_list()   # Until the 2nd column: Date and Time columns\n",
    "col_the_rest = df_moovizy_02.columns[2:-1].to_list() # the rest\n",
    "col_complete = col_datetime + col_interval + col_the_rest\n",
    "\n",
    "# Give the order of columns to Moovizy DF\n",
    "df_moovizy_02 = df_moovizy_02[col_complete]"
   ]
  },
  {
   "cell_type": "code",
   "execution_count": 6,
   "metadata": {},
   "outputs": [],
   "source": [
    "###########################################################################################################\n",
    "#                                                                                                         #\n",
    "# Solutions column contains 2 to 3 possible routes in each there are Dist, Time, Dep. Time, Arr. Time etc #\n",
    "#                                                                                                         #\n",
    "###########################################################################################################\n",
    "\n",
    "# Get Solutions column as a Series\n",
    "solutions_00 = df_moovizy_02[['Solutions']]\n",
    "\n",
    "# Getting rid of empty Solutions rows\n",
    "solutions_01 = solutions_00[solutions_00['Solutions'].map(len) > 1] # this will leave some indices empty (ex: 1 2 5 6 8)\n",
    "\n",
    "# Get indices of non-empty Solutions rows\n",
    "idx_solutions = solutions_01.index # index object: not in \n",
    "\n",
    "# Choose rows of Moovizy DF that have the same indices as non-empty Solutions rows\n",
    "df_moovizy_03 = df_moovizy_02.iloc[idx_solutions,:]\n",
    "df_moovizy_04 = df_moovizy_03.reset_index(drop = True) # reset indices so that there are no empty skipped indices\n",
    "solutions_02 = solutions_01.reset_index(drop = True)   # same but for solutions"
   ]
  },
  {
   "cell_type": "code",
   "execution_count": 7,
   "metadata": {},
   "outputs": [],
   "source": [
    "# In Solutions column, a row contains a list of solutions.\n",
    "# Each solution is a dictionary object.\n",
    "# In each dictionary object there are multiple pieces of key info such as DepTime, ArrTime, Dist, Time etc\n",
    "\n",
    "num_sol = []\n",
    "for i in range(len(solutions_02)):\n",
    "    num_sol.append(len(solutions_02.iloc[i,0]))\n",
    "\n",
    "# Create empty DFs for each solution\n",
    "df_sol_1 = pd.DataFrame(index=range(0,len(solutions_02)),\n",
    "                        columns=['DepartureTime','ArrivalTime','DurationAsMinutes','LengthAsMeters',\n",
    "                               'TransfersCount','TripSteps','Index'])\n",
    "\n",
    "df_sol_2 = pd.DataFrame(index=range(0,len(solutions_02)),\n",
    "                        columns=['DepartureTime','ArrivalTime','DurationAsMinutes','LengthAsMeters',\n",
    "                               'TransfersCount','TripSteps','Index'])\n",
    "\n",
    "df_sol_3 = pd.DataFrame(index=range(0,len(solutions_02)),\n",
    "                        columns=['DepartureTime','ArrivalTime','DurationAsMinutes','LengthAsMeters',\n",
    "                               'TransfersCount','TripSteps','Index'])\n"
   ]
  },
  {
   "cell_type": "code",
   "execution_count": 8,
   "metadata": {},
   "outputs": [
    {
     "data": {
      "text/plain": [
       "3    205175\n",
       "2      4131\n",
       "Name: 0, dtype: int64"
      ]
     },
     "execution_count": 8,
     "metadata": {},
     "output_type": "execute_result"
    }
   ],
   "source": [
    "# Check how many routes were proposed\n",
    "df_num_sol = pd.DataFrame(num_sol)\n",
    "df_num_sol[0].value_counts()\n",
    "# 3 routes:   205175\n",
    "# 2 routes:     4131"
   ]
  },
  {
   "cell_type": "code",
   "execution_count": 9,
   "metadata": {},
   "outputs": [],
   "source": [
    "# List of travel info details stored as dict keys\n",
    "keys = list(solutions_02.iloc[0,0][1].keys())\n",
    "\n",
    "# Save each route in seaparate dataframes\n",
    "for key in keys:\n",
    "    for i in range(len(df_sol_1)):\n",
    "        if num_sol[i] == 2:\n",
    "            df_sol_1.loc[i,key] = solutions_02.iloc[i,0][0][key]\n",
    "            df_sol_2.loc[i,key] = solutions_02.iloc[i,0][1][key]\n",
    "        else:\n",
    "            df_sol_1.loc[i,key] = solutions_02.iloc[i,0][0][key]\n",
    "            df_sol_2.loc[i,key] = solutions_02.iloc[i,0][1][key]\n",
    "            df_sol_3.loc[i,key] = solutions_02.iloc[i,0][2][key]"
   ]
  },
  {
   "cell_type": "code",
   "execution_count": 10,
   "metadata": {},
   "outputs": [],
   "source": [
    "# Setting a new column order\n",
    "df_sol_11 = df_sol_1.rename(columns={'DepartureTime': 'DepartureTime_1',\n",
    "                                     'ArrivalTime': 'ArrivalTime_1',\n",
    "                                     'DurationAsMinutes': 'DurationAsMinutes_1',\n",
    "                                     'LengthAsMeters': 'LengthAsMeters_1',\n",
    "                                     'TransfersCount': 'TransfersCount_1',\n",
    "                                     'TripSteps': 'TripSteps_1',\n",
    "                                     'Index': 'Route_1'})\n",
    "df_sol_22 = df_sol_2.rename(columns={'DepartureTime': 'DepartureTime_2',\n",
    "                                     'ArrivalTime': 'ArrivalTime_2',\n",
    "                                     'DurationAsMinutes': 'DurationAsMinutes_2',\n",
    "                                     'LengthAsMeters': 'LengthAsMeters_2',\n",
    "                                     'TransfersCount': 'TransfersCount_2',\n",
    "                                     'TripSteps': 'TripSteps_2',\n",
    "                                     'Index': 'Route_2'})\n",
    "df_sol_33 = df_sol_3.rename(columns={'DepartureTime': 'DepartureTime_3',\n",
    "                                     'ArrivalTime': 'ArrivalTime_3',\n",
    "                                     'DurationAsMinutes': 'DurationAsMinutes_3',\n",
    "                                     'LengthAsMeters': 'LengthAsMeters_3',\n",
    "                                     'TransfersCount': 'TransfersCount_3',\n",
    "                                     'TripSteps': 'TripSteps_3',\n",
    "                                     'Index': 'Route_3'})\n",
    "\n",
    "# Combining all the solutions\n",
    "df_sol = pd.concat([df_sol_11,df_sol_22,df_sol_33],axis=1)"
   ]
  },
  {
   "cell_type": "code",
   "execution_count": 11,
   "metadata": {},
   "outputs": [],
   "source": [
    "# Split DepartureTime of route 1 into Date, Time, TimeReference\n",
    "df_sol[['Departure_Date_1','Departure_Time_1','Departure_Ref_1']] = pd.DataFrame(df_sol['DepartureTime_1'].str.split(' ', 2).tolist())\n",
    "# Drop DepartureTime column and TimeReference column\n",
    "df_sol_dep1_01 = df_sol.drop(['DepartureTime_1','Departure_Ref_1'], axis=1)\n",
    "\n",
    "# Get columns in the following order: Departure_Date_1, Departure_Time_1, and the rest\n",
    "departure_time_cols_01 = df_sol_dep1_01.columns[-2:].to_list()\n",
    "departure_rest_01  = df_sol_dep1_01.columns[:-2].to_list()\n",
    "departure_both_01 = departure_time_cols_01 + departure_rest_01\n",
    "\n",
    "# sort columns\n",
    "df_sol_dep1_02 = df_sol_dep1_01[departure_both_01]\n",
    "df_sol_dep1_02.head(2)\n",
    "\n",
    "# Split ArrivalTime of route 1 into Date, Time, TimeReference\n",
    "df_sol_dep1_02[['Arrival_Date_1','Arrival_Time_1','Arrival_Ref_1']] = pd.DataFrame(df_sol_dep1_02['ArrivalTime_1'].str.split(' ', 2).tolist())\n",
    "# Drop ArrivalTime column and TimeReference column\n",
    "df_sol_arr1_01 = df_sol_dep1_02.drop(['ArrivalTime_1','Arrival_Ref_1'], axis=1)\n",
    "\n",
    "arrival_departure_01 = df_sol_arr1_01.columns[0:2].to_list()\n",
    "arrival_time_cols_01 = df_sol_arr1_01.columns[-2:].to_list()\n",
    "arrival_rest_01 = df_sol_arr1_01.columns[2:-2].to_list()\n",
    "arrival_all_01 = arrival_departure_01 + arrival_time_cols_01 + arrival_rest_01\n",
    "\n",
    "df_sol_arr1_02 = df_sol_arr1_01[arrival_all_01]"
   ]
  },
  {
   "cell_type": "code",
   "execution_count": 12,
   "metadata": {},
   "outputs": [],
   "source": [
    "# Split DepartureTime of route 2 into Date, Time, TimeReference\n",
    "df_sol_arr1_02[['Departure_Date_2','Departure_Time_2','Departure_Ref_2']] = pd.DataFrame(df_sol_arr1_02['DepartureTime_2'].str.split(' ', 2).tolist())\n",
    "# Drop DepartureTime column and TimeReference column\n",
    "df_sol_dep2_01 = df_sol_arr1_02.drop(['DepartureTime_2','Departure_Ref_2'], axis=1)\n",
    "\n",
    "# Get columns in the following order: Departure_Date_2, Departure_Time_2, and the rest\n",
    "route2_left  = df_sol_dep2_01.columns[:9].to_list()\n",
    "route2_right = df_sol_dep2_01.columns[-2:].to_list()\n",
    "route2_middle= df_sol_dep2_01.columns[9:-2].to_list()\n",
    "route2_all   = route2_left + route2_right + route2_middle\n",
    "\n",
    "# sort columns\n",
    "df_dep_2 = df_sol_dep2_01[route2_all]\n",
    "\n",
    "# Split ArrivalTime of route 1 into Date, Time, TimeReference\n",
    "df_dep_2[['Arrival_Date_2','Arrival_Time_2','Arrival_Ref_2']] = pd.DataFrame(df_dep_2['ArrivalTime_2'].str.split(' ', 2).tolist())\n",
    "# Drop ArrivalTime column and TimeReference column\n",
    "df_arr_21 = df_dep_2.drop(['ArrivalTime_2','Arrival_Ref_2'], axis=1)\n",
    "\n",
    "route2_arr_left = df_arr_21.columns[0:11].to_list()\n",
    "route2_arr_mid  = df_arr_21.columns[11:-2].to_list()\n",
    "route2_arr_right= df_arr_21.columns[-2:].to_list()\n",
    "route2_arr_all  = route2_arr_left + route2_arr_right + route2_arr_mid\n",
    "\n",
    "df_arr_22 = df_arr_21[route2_arr_all]"
   ]
  },
  {
   "cell_type": "code",
   "execution_count": 13,
   "metadata": {},
   "outputs": [],
   "source": [
    "nan_index = []\n",
    "for i, e in enumerate(list(df_arr_22['DepartureTime_3'])):\n",
    "    if isinstance(e, float):\n",
    "        nan_index.append(i)\n",
    "\n",
    "len(nan_index) # 2797\n",
    "\n",
    "deptime_3 = []\n",
    "for i, e in enumerate(list(df_arr_22['DepartureTime_3'])):\n",
    "    if isinstance(e, float):\n",
    "        deptime_3.append('9999-01-01 00:00:00 UTC') # for empty solution rows\n",
    "    else:\n",
    "        deptime_3.append(e)\n",
    "        \n",
    "arrtime_3 = []\n",
    "for i, e in enumerate(list(df_arr_22['ArrivalTime_3'])):\n",
    "    if isinstance(e, float):\n",
    "        arrtime_3.append('9999-01-01 00:00:00 UTC') # for empty solution rows\n",
    "    else:\n",
    "        arrtime_3.append(e)\n"
   ]
  },
  {
   "cell_type": "code",
   "execution_count": 14,
   "metadata": {},
   "outputs": [],
   "source": [
    "df_arr_22.columns.get_loc('DepartureTime_3') # 18 >> column position is 18th (index)\n",
    "df_arr_22.columns.get_loc('ArrivalTime_3')   # 19\n",
    "\n",
    "#n = df_arr_22.columns[['DepartureTime_3']]\n",
    "df_dep_30 = df_arr_22.drop(['DepartureTime_3','ArrivalTime_3'], axis=1)\n",
    "df_dep_30['DepartureTime_3'] = deptime_3\n",
    "df_dep_30['ArrivalTime_3'] = arrtime_3\n",
    "\n",
    "\n",
    "# Split DepartureTime of route 3 into Date, Time, TimeReference\n",
    "df_dep_30[['Departure_Date_3','Departure_Time_3','Departure_Ref_3']] = pd.DataFrame(df_dep_30['DepartureTime_3'].str.split(' ', 2).tolist())\n",
    "# Drop DepartureTime column and TimeReference column\n",
    "df_dep_31 = df_dep_30.drop(['DepartureTime_3','Departure_Ref_3'], axis=1)\n",
    "\n",
    "df_dep_31[['Arrival_Date_3','Arrival_Time_3','Arrival_Ref_3']] = pd.DataFrame(df_dep_31['ArrivalTime_3'].str.split(' ', 2).tolist())\n",
    "# Drop ArrivalTime column and TimeReference column\n",
    "df_dep_32 = df_dep_31.drop(['ArrivalTime_3','Arrival_Ref_3'], axis=1)"
   ]
  },
  {
   "cell_type": "code",
   "execution_count": 15,
   "metadata": {},
   "outputs": [],
   "source": [
    "route3_left = df_dep_32.columns[:18].to_list()\n",
    "route3_mid  = df_dep_32.columns[18:-4].to_list()\n",
    "route3_right= df_dep_32.columns[-4:].to_list()\n",
    "route3_all = route3_left + route3_right + route3_mid\n",
    "\n",
    "df_dep_33 = df_dep_32[route3_all]"
   ]
  },
  {
   "cell_type": "code",
   "execution_count": 16,
   "metadata": {},
   "outputs": [],
   "source": [
    "# Drop Solutions column then concat df_dep_33. This will replace Solutions\n",
    "df_moovizy_04_bis = df_moovizy_04.drop(['Solutions'], axis=1)\n",
    "df_moovizy_05 = pd.concat([df_moovizy_04_bis,df_dep_33], axis=1)"
   ]
  },
  {
   "cell_type": "code",
   "execution_count": 17,
   "metadata": {},
   "outputs": [],
   "source": [
    "# Get Time and Distance of the travel for each solution 1, 2 and 3\n",
    "time_dist_1 = df_moovizy_05[['DurationAsMinutes_1', 'LengthAsMeters_1']]\n",
    "time_dist_2 = df_moovizy_05[['DurationAsMinutes_2', 'LengthAsMeters_2']]\n",
    "time_dist_3 = df_moovizy_05[['DurationAsMinutes_3', 'LengthAsMeters_3']]\n",
    "\n",
    "# Make dist and time as int for Solution N.1\n",
    "dist_1 = list(time_dist_1['LengthAsMeters_1'])\n",
    "time_1 = list(time_dist_1['DurationAsMinutes_1'])\n",
    "int_dist_1 = [ int(x) for x in dist_1 ]\n",
    "int_time_1 = [ int(y) for y in time_1]\n",
    "\n",
    "# Make dist and time as int for Solution N.2\n",
    "dist_2 = list(time_dist_2['LengthAsMeters_2'])\n",
    "time_2 = list(time_dist_2['DurationAsMinutes_2'])\n",
    "int_dist_2 = [ int(x) for x in dist_2]\n",
    "int_time_2  = [ int(y) for y in time_2]\n",
    "\n",
    "# We only extract dist and time for Solution N.3 and don't change to int object bc some are NaN\n",
    "dist_3 = list(time_dist_3['LengthAsMeters_3'])\n",
    "time_3 = list(time_dist_3['DurationAsMinutes_3'])"
   ]
  },
  {
   "cell_type": "code",
   "execution_count": 18,
   "metadata": {},
   "outputs": [],
   "source": [
    "# make it to str then change to int (bc its stored as str)\n",
    "for i, x in enumerate(dist_3):\n",
    "    if isinstance(x, str):\n",
    "        dist_3[i] = int(x)\n",
    "\n",
    "# bc of N/A objects we chose float\n",
    "for i, x in enumerate(dist_3):\n",
    "    if isinstance(x, float):\n",
    "        dist_3[i] = 0\n",
    "        \n",
    "for i, x in enumerate(time_3):\n",
    "    if isinstance(x, str):\n",
    "        time_3[i] = int(x)\n",
    "\n",
    "for i, x in enumerate(time_3):\n",
    "    if isinstance(x, float):\n",
    "        time_3[i] = 1"
   ]
  },
  {
   "cell_type": "code",
   "execution_count": null,
   "metadata": {},
   "outputs": [],
   "source": [
    "# Speed computation for each solution and store each as a DF\n",
    "speed_1 = pd.DataFrame(np.array(int_dist_1) / (np.array(int_time_1) * 60), columns=[\"Speed_1 (m/s)\"])\n",
    "speed_2 = pd.DataFrame(np.array(int_dist_2) / (np.array(int_time_2) * 60), columns=[\"Speed_2 (m/s)\"])\n",
    "speed_3 = pd.DataFrame(np.array(dist_3) / (np.array(time_3) * 60), columns=[\"Speed_3 (m/s)\"])\n",
    "\n",
    "# Concat the speed DFs as a single DF\n",
    "speed = pd.concat([speed_1,speed_2,speed_3], axis=1)"
   ]
  }
 ],
 "metadata": {
  "kernelspec": {
   "display_name": "Python 3",
   "language": "python",
   "name": "python3"
  },
  "language_info": {
   "codemirror_mode": {
    "name": "ipython",
    "version": 3
   },
   "file_extension": ".py",
   "mimetype": "text/x-python",
   "name": "python",
   "nbconvert_exporter": "python",
   "pygments_lexer": "ipython3",
   "version": "3.8.3"
  }
 },
 "nbformat": 4,
 "nbformat_minor": 4
}
