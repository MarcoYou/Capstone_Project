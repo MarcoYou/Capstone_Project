{
 "cells": [
  {
   "cell_type": "code",
   "execution_count": null,
   "metadata": {},
   "outputs": [],
   "source": [
    "import numpy as np \n",
    "import pandas as pd\n",
    "import matplotlib as mpl \n",
    "import matplotlib.pyplot as plt\n",
    "import seaborn as sns\n",
    "\n",
    "mvz = pd.read_excel(\"Agg_Moovizy_V3.xlsx\", index_col = 0)\n",
    "\n",
    "modif_1 = mvz[['Date', 'Interval', 'Req', 'Req_2H', 'Req_1D', 'Req_DP',\n",
    "       'TopSpeed (m/s)', 'Num_Transfer', 'Weekend', 'Day',\n",
    "       'Total Ticket Sales ', 'Regular User ', 'Irregular Users']]\n",
    "\n",
    "dt_mvz = modif_1.rename(columns={'TopSpeed (m/s)':'TopSpeed',\n",
    "                        'Total Ticket Sales ':'Ticket_Sales',\n",
    "                        'Regular User ':'Regular_Sales',\n",
    "                        'Irregular Users':'Irregular_Sales'})"
   ]
  },
  {
   "cell_type": "code",
   "execution_count": null,
   "metadata": {},
   "outputs": [],
   "source": [
    "idx = dt_mvz.TopSpeed != np.inf\n",
    "noinf = dt_mvz[idx]\n",
    "noinf_mean = np.mean(noinf.TopSpeed)\n",
    "\n",
    "dt_mvz.replace([np.inf, -np.inf], noinf_mean, inplace=True)"
   ]
  },
  {
   "cell_type": "code",
   "execution_count": null,
   "metadata": {},
   "outputs": [],
   "source": [
    "import statsmodels.api as sm\n",
    "import statsmodels.formula.api as smf\n",
    "\n",
    "\n",
    "model = smf.ols('Ticket_Sales ~ Req_2H + Req_1D + Req_DP + TopSpeed + Num_Transfer + C(Weekend):C(Interval)',\n",
    "                  data=dt_mvz)\n",
    "results = model.fit(cov_type='HC3') # heteroscedasticity robust covariance\n",
    "print(results.summary())"
   ]
  },
  {
   "cell_type": "code",
   "execution_count": null,
   "metadata": {},
   "outputs": [],
   "source": [
    "results.params[-5:] # Type = pd.Series"
   ]
  },
  {
   "cell_type": "code",
   "execution_count": null,
   "metadata": {},
   "outputs": [],
   "source": [
    "results.rsquared"
   ]
  },
  {
   "cell_type": "code",
   "execution_count": null,
   "metadata": {},
   "outputs": [],
   "source": [
    "sm.graphics.plot_partregress(endog='Ticket_Sales', exog_i='Req_2H',\n",
    "                             exog_others=['Req_1D', 'Req_DP', 'TopSpeed', 'Num_Transfer', 'C(Weekend):C(Interval)'],\n",
    "                             alpha=.4, data=dt_mvz, obs_labels=False)\n",
    "\n",
    "sm.graphics.plot_partregress(endog='Ticket_Sales', exog_i='Req_1D',\n",
    "                             exog_others=['Req_2H', 'Req_DP', 'TopSpeed', 'Num_Transfer', 'C(Weekend):C(Interval)'],\n",
    "                             alpha=.4, data=dt_mvz, obs_labels=False)\n",
    "\n",
    "sm.graphics.plot_partregress(endog='Ticket_Sales', exog_i='Req_DP',\n",
    "                             exog_others=['Req_2H', 'Req_1D', 'TopSpeed', 'Num_Transfer', 'C(Weekend):C(Interval)'],\n",
    "                             alpha=.4, data=dt_mvz, obs_labels=False)"
   ]
  }
 ],
 "metadata": {
  "kernelspec": {
   "display_name": "Python 3",
   "language": "python",
   "name": "python3"
  },
  "language_info": {
   "codemirror_mode": {
    "name": "ipython",
    "version": 3
   },
   "file_extension": ".py",
   "mimetype": "text/x-python",
   "name": "python",
   "nbconvert_exporter": "python",
   "pygments_lexer": "ipython3",
   "version": "3.8.3"
  }
 },
 "nbformat": 4,
 "nbformat_minor": 4
}
